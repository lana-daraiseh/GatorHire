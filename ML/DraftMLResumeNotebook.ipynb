{
 "cells": [
  {
   "metadata": {},
   "cell_type": "markdown",
   "source": "Step 1: Loading Data",
   "id": "10c090035cac7ca5"
  },
  {
   "metadata": {
    "ExecuteTime": {
     "end_time": "2025-10-31T18:20:05.886761Z",
     "start_time": "2025-10-31T18:20:04.187732Z"
    }
   },
   "cell_type": "code",
   "source": [
    "import io\n",
    "import re\n",
    "from datetime import datetime\n",
    "import pandas as pd\n",
    "import streamlit as st\n",
    "from pypdf import PdfReader\n",
    "import pdfplumber\n",
    "import numpy as np\n",
    "import matplotlib.pyplot as plt\n",
    "import seaborn as sns\n",
    "\n",
    "import fitz  # PyMuPDF"
   ],
   "id": "4cc1406a31a0abd4",
   "outputs": [],
   "execution_count": 1
  },
  {
   "metadata": {
    "ExecuteTime": {
     "end_time": "2025-10-31T17:32:22.183655Z",
     "start_time": "2025-10-31T17:32:22.167431Z"
    }
   },
   "cell_type": "code",
   "source": [
    "file_path = '/DraftMLResumeProject/parsed_resumes.csv'\n",
    "try:\n",
    "    df = pd.read_csv(file_path)\n",
    "except:\n",
    "    df = pd.read_csv(\"parsed_resumes.csv\")      # manual read"
   ],
   "id": "270456ec943ed671",
   "outputs": [],
   "execution_count": 11
  },
  {
   "metadata": {
    "ExecuteTime": {
     "end_time": "2025-10-31T17:32:23.083924Z",
     "start_time": "2025-10-31T17:32:23.079425Z"
    }
   },
   "cell_type": "code",
   "source": [
    "# Print the shape of the dataset\n",
    "\n",
    "print(f\"There are {df.shape[0]} rows and {df.shape[1]} columns.\")"
   ],
   "id": "23c0528a92ff435d",
   "outputs": [
    {
     "name": "stdout",
     "output_type": "stream",
     "text": [
      "There are 213 rows and 11 columns.\n"
     ]
    }
   ],
   "execution_count": 12
  },
  {
   "metadata": {
    "ExecuteTime": {
     "end_time": "2025-10-31T17:32:24.415338Z",
     "start_time": "2025-10-31T17:32:24.407026Z"
    }
   },
   "cell_type": "code",
   "source": [
    "# Display first 5 rows of Raw Data\n",
    "display(df.head())"
   ],
   "id": "f2cfbc9f5cc29e70",
   "outputs": [
    {
     "data": {
      "text/plain": [
       "                                            filename              name  \\\n",
       "0                R_062P3gnulqWHuYp_Resume_012319.pdf   Sara McAllister   \n",
       "1    R_0BQu5fWUIVXaNm9_SPRING 2019 Resume - HVL.docx        HOA V. LUU   \n",
       "2  R_0vmGx2SxL7WwosV_Isabel Castro resume fall 20...  Isabel A. Castro   \n",
       "3                 R_0qdcYTjiGhMEbtf_Meade_Resume.pdf      DORIAN MEADE   \n",
       "4                  R_0JI4NZ93kKpwrvz_MohonaAhmed.pdf      Mohona Ahmed   \n",
       "\n",
       "                     email              phone summary  \\\n",
       "0      smcallister@hmc.edu     (650) 919-4271     NaN   \n",
       "1         hluu8@gatech.edu       770-853-1325     NaN   \n",
       "2          castroi@ufl.edu  (646) 417–1473505     NaN   \n",
       "3      dorianmeade@ufl.edu     (954) 470-0860     NaN   \n",
       "4  mohonaahmed62@gmail.com     (561)-674-1142     NaN   \n",
       "\n",
       "                                              skills  \\\n",
       "0  C, C++, Python, Matlab, Assembly, Bash, Haskel...   \n",
       "1  Java, C++, Shell Scripting (bash), MacOS, Micr...   \n",
       "2  C#, Java, C++, JavaScript, Python, Unity, Blen...   \n",
       "3  Java, C, C++, C#, SQL, HTML and CSS, MATLAB, J...   \n",
       "4                                   Java, C++, Swift   \n",
       "\n",
       "                                           education  \\\n",
       "0  [{\"school\": \"Harvey Mudd College\", \"degree\": \"...   \n",
       "1  [{\"school\": \"Georgia Institute of Technology\",...   \n",
       "2  [{\"school\": \"University of Florida\", \"degree\":...   \n",
       "3  [{\"school\": \"University of Florida\", \"degree\":...   \n",
       "4  [{\"school\": \"UNIVERSITY OF FLORIDA\", \"degree\":...   \n",
       "\n",
       "                                          experience  \\\n",
       "0  [{\"title\": \"Tutor and Grader\", \"company\": \"Har...   \n",
       "1  [{\"title\": \"Cashier\", \"company\": \"LD Nails\", \"...   \n",
       "2  [{\"title\": \"STEM Summer Camp Assistant Counsel...   \n",
       "3  [{\"title\": \"Member\", \"company\": \"Association f...   \n",
       "4  [{\"title\": \"EXPLORE INTERN – AI PLATFORM\", \"co...   \n",
       "\n",
       "                                            projects  \\\n",
       "0  [{\"name\": \"High-availability NFS Server\", \"des...   \n",
       "1  [{\"name\": \"Non-Profit Donation Tracking App\", ...   \n",
       "2  [{\"name\": \"CIS4930, Virtual Reality for the So...   \n",
       "3                                                 []   \n",
       "4  [{\"name\": \"SurgeryU\", \"description\": null}, {\"...   \n",
       "\n",
       "                                            research  \\\n",
       "0  [{\"title\": \"Research Assistant, Computer Scien...   \n",
       "1                                                 []   \n",
       "2                                                 []   \n",
       "3  [{\"title\": \"STEM Academy\", \"description\": \"Des...   \n",
       "4  [{\"title\": \"PUBLICATIONS\", \"description\": \"Yin...   \n",
       "\n",
       "                                  relevant_classwork  \n",
       "0  File Systems, Algorithms, Operating Systems, A...  \n",
       "1  Data Structures and Algorithms, Objects and De...  \n",
       "2  Programming Fundamentals 1 and 2, Discrete Str...  \n",
       "3  Programming Fundamentals, Data Structures, App...  \n",
       "4  Discrete Mathematics, Data Structures and Algo...  "
      ],
      "text/html": [
       "<div>\n",
       "<style scoped>\n",
       "    .dataframe tbody tr th:only-of-type {\n",
       "        vertical-align: middle;\n",
       "    }\n",
       "\n",
       "    .dataframe tbody tr th {\n",
       "        vertical-align: top;\n",
       "    }\n",
       "\n",
       "    .dataframe thead th {\n",
       "        text-align: right;\n",
       "    }\n",
       "</style>\n",
       "<table border=\"1\" class=\"dataframe\">\n",
       "  <thead>\n",
       "    <tr style=\"text-align: right;\">\n",
       "      <th></th>\n",
       "      <th>filename</th>\n",
       "      <th>name</th>\n",
       "      <th>email</th>\n",
       "      <th>phone</th>\n",
       "      <th>summary</th>\n",
       "      <th>skills</th>\n",
       "      <th>education</th>\n",
       "      <th>experience</th>\n",
       "      <th>projects</th>\n",
       "      <th>research</th>\n",
       "      <th>relevant_classwork</th>\n",
       "    </tr>\n",
       "  </thead>\n",
       "  <tbody>\n",
       "    <tr>\n",
       "      <th>0</th>\n",
       "      <td>R_062P3gnulqWHuYp_Resume_012319.pdf</td>\n",
       "      <td>Sara McAllister</td>\n",
       "      <td>smcallister@hmc.edu</td>\n",
       "      <td>(650) 919-4271</td>\n",
       "      <td>NaN</td>\n",
       "      <td>C, C++, Python, Matlab, Assembly, Bash, Haskel...</td>\n",
       "      <td>[{\"school\": \"Harvey Mudd College\", \"degree\": \"...</td>\n",
       "      <td>[{\"title\": \"Tutor and Grader\", \"company\": \"Har...</td>\n",
       "      <td>[{\"name\": \"High-availability NFS Server\", \"des...</td>\n",
       "      <td>[{\"title\": \"Research Assistant, Computer Scien...</td>\n",
       "      <td>File Systems, Algorithms, Operating Systems, A...</td>\n",
       "    </tr>\n",
       "    <tr>\n",
       "      <th>1</th>\n",
       "      <td>R_0BQu5fWUIVXaNm9_SPRING 2019 Resume - HVL.docx</td>\n",
       "      <td>HOA V. LUU</td>\n",
       "      <td>hluu8@gatech.edu</td>\n",
       "      <td>770-853-1325</td>\n",
       "      <td>NaN</td>\n",
       "      <td>Java, C++, Shell Scripting (bash), MacOS, Micr...</td>\n",
       "      <td>[{\"school\": \"Georgia Institute of Technology\",...</td>\n",
       "      <td>[{\"title\": \"Cashier\", \"company\": \"LD Nails\", \"...</td>\n",
       "      <td>[{\"name\": \"Non-Profit Donation Tracking App\", ...</td>\n",
       "      <td>[]</td>\n",
       "      <td>Data Structures and Algorithms, Objects and De...</td>\n",
       "    </tr>\n",
       "    <tr>\n",
       "      <th>2</th>\n",
       "      <td>R_0vmGx2SxL7WwosV_Isabel Castro resume fall 20...</td>\n",
       "      <td>Isabel A. Castro</td>\n",
       "      <td>castroi@ufl.edu</td>\n",
       "      <td>(646) 417–1473505</td>\n",
       "      <td>NaN</td>\n",
       "      <td>C#, Java, C++, JavaScript, Python, Unity, Blen...</td>\n",
       "      <td>[{\"school\": \"University of Florida\", \"degree\":...</td>\n",
       "      <td>[{\"title\": \"STEM Summer Camp Assistant Counsel...</td>\n",
       "      <td>[{\"name\": \"CIS4930, Virtual Reality for the So...</td>\n",
       "      <td>[]</td>\n",
       "      <td>Programming Fundamentals 1 and 2, Discrete Str...</td>\n",
       "    </tr>\n",
       "    <tr>\n",
       "      <th>3</th>\n",
       "      <td>R_0qdcYTjiGhMEbtf_Meade_Resume.pdf</td>\n",
       "      <td>DORIAN MEADE</td>\n",
       "      <td>dorianmeade@ufl.edu</td>\n",
       "      <td>(954) 470-0860</td>\n",
       "      <td>NaN</td>\n",
       "      <td>Java, C, C++, C#, SQL, HTML and CSS, MATLAB, J...</td>\n",
       "      <td>[{\"school\": \"University of Florida\", \"degree\":...</td>\n",
       "      <td>[{\"title\": \"Member\", \"company\": \"Association f...</td>\n",
       "      <td>[]</td>\n",
       "      <td>[{\"title\": \"STEM Academy\", \"description\": \"Des...</td>\n",
       "      <td>Programming Fundamentals, Data Structures, App...</td>\n",
       "    </tr>\n",
       "    <tr>\n",
       "      <th>4</th>\n",
       "      <td>R_0JI4NZ93kKpwrvz_MohonaAhmed.pdf</td>\n",
       "      <td>Mohona Ahmed</td>\n",
       "      <td>mohonaahmed62@gmail.com</td>\n",
       "      <td>(561)-674-1142</td>\n",
       "      <td>NaN</td>\n",
       "      <td>Java, C++, Swift</td>\n",
       "      <td>[{\"school\": \"UNIVERSITY OF FLORIDA\", \"degree\":...</td>\n",
       "      <td>[{\"title\": \"EXPLORE INTERN – AI PLATFORM\", \"co...</td>\n",
       "      <td>[{\"name\": \"SurgeryU\", \"description\": null}, {\"...</td>\n",
       "      <td>[{\"title\": \"PUBLICATIONS\", \"description\": \"Yin...</td>\n",
       "      <td>Discrete Mathematics, Data Structures and Algo...</td>\n",
       "    </tr>\n",
       "  </tbody>\n",
       "</table>\n",
       "</div>"
      ]
     },
     "metadata": {},
     "output_type": "display_data",
     "jetTransient": {
      "display_id": null
     }
    }
   ],
   "execution_count": 13
  },
  {
   "metadata": {
    "ExecuteTime": {
     "end_time": "2025-10-31T17:32:26.533517Z",
     "start_time": "2025-10-31T17:32:26.517424Z"
    }
   },
   "cell_type": "code",
   "source": [
    "# Information about Dataset\n",
    "display(df.info())"
   ],
   "id": "f5f147805af4c629",
   "outputs": [
    {
     "name": "stdout",
     "output_type": "stream",
     "text": [
      "<class 'pandas.core.frame.DataFrame'>\n",
      "RangeIndex: 213 entries, 0 to 212\n",
      "Data columns (total 11 columns):\n",
      " #   Column              Non-Null Count  Dtype \n",
      "---  ------              --------------  ----- \n",
      " 0   filename            213 non-null    object\n",
      " 1   name                210 non-null    object\n",
      " 2   email               209 non-null    object\n",
      " 3   phone               209 non-null    object\n",
      " 4   summary             51 non-null     object\n",
      " 5   skills              204 non-null    object\n",
      " 6   education           213 non-null    object\n",
      " 7   experience          213 non-null    object\n",
      " 8   projects            213 non-null    object\n",
      " 9   research            213 non-null    object\n",
      " 10  relevant_classwork  141 non-null    object\n",
      "dtypes: object(11)\n",
      "memory usage: 18.4+ KB\n"
     ]
    },
    {
     "data": {
      "text/plain": [
       "None"
      ]
     },
     "metadata": {},
     "output_type": "display_data",
     "jetTransient": {
      "display_id": null
     }
    }
   ],
   "execution_count": 14
  },
  {
   "metadata": {
    "ExecuteTime": {
     "end_time": "2025-10-31T17:32:28.232636Z",
     "start_time": "2025-10-31T17:32:28.212099Z"
    }
   },
   "cell_type": "code",
   "source": [
    "# Print Summary Statistics\n",
    "display(df.describe(include = \"all\"))"
   ],
   "id": "51b2c0a52dba403c",
   "outputs": [
    {
     "data": {
      "text/plain": [
       "                                   filename                      name  \\\n",
       "count                                   213                       210   \n",
       "unique                                  213                       209   \n",
       "top     R_062P3gnulqWHuYp_Resume_012319.pdf  Michael Joseph O’Connell   \n",
       "freq                                      1                         2   \n",
       "\n",
       "                           email           phone  \\\n",
       "count                        209             209   \n",
       "unique                       208             208   \n",
       "top     michaeljoconnell@ufl.edu  (904) 629-9221   \n",
       "freq                           2               2   \n",
       "\n",
       "                                                  summary  \\\n",
       "count                                                  51   \n",
       "unique                                                 51   \n",
       "top     To obtain a full-time job working on embedding...   \n",
       "freq                                                    1   \n",
       "\n",
       "                                                   skills education  \\\n",
       "count                                                 204       213   \n",
       "unique                                                203       211   \n",
       "top     C#, C++, C, Java, Python, JavaScript, CSS, HTM...        []   \n",
       "freq                                                    2         3   \n",
       "\n",
       "       experience projects research  \\\n",
       "count         213      213      213   \n",
       "unique        204      124       20   \n",
       "top            []       []       []   \n",
       "freq            9       89      194   \n",
       "\n",
       "                                       relevant_classwork  \n",
       "count                                                 141  \n",
       "unique                                                140  \n",
       "top     Data Structures, Software Engineering, Databas...  \n",
       "freq                                                    2  "
      ],
      "text/html": [
       "<div>\n",
       "<style scoped>\n",
       "    .dataframe tbody tr th:only-of-type {\n",
       "        vertical-align: middle;\n",
       "    }\n",
       "\n",
       "    .dataframe tbody tr th {\n",
       "        vertical-align: top;\n",
       "    }\n",
       "\n",
       "    .dataframe thead th {\n",
       "        text-align: right;\n",
       "    }\n",
       "</style>\n",
       "<table border=\"1\" class=\"dataframe\">\n",
       "  <thead>\n",
       "    <tr style=\"text-align: right;\">\n",
       "      <th></th>\n",
       "      <th>filename</th>\n",
       "      <th>name</th>\n",
       "      <th>email</th>\n",
       "      <th>phone</th>\n",
       "      <th>summary</th>\n",
       "      <th>skills</th>\n",
       "      <th>education</th>\n",
       "      <th>experience</th>\n",
       "      <th>projects</th>\n",
       "      <th>research</th>\n",
       "      <th>relevant_classwork</th>\n",
       "    </tr>\n",
       "  </thead>\n",
       "  <tbody>\n",
       "    <tr>\n",
       "      <th>count</th>\n",
       "      <td>213</td>\n",
       "      <td>210</td>\n",
       "      <td>209</td>\n",
       "      <td>209</td>\n",
       "      <td>51</td>\n",
       "      <td>204</td>\n",
       "      <td>213</td>\n",
       "      <td>213</td>\n",
       "      <td>213</td>\n",
       "      <td>213</td>\n",
       "      <td>141</td>\n",
       "    </tr>\n",
       "    <tr>\n",
       "      <th>unique</th>\n",
       "      <td>213</td>\n",
       "      <td>209</td>\n",
       "      <td>208</td>\n",
       "      <td>208</td>\n",
       "      <td>51</td>\n",
       "      <td>203</td>\n",
       "      <td>211</td>\n",
       "      <td>204</td>\n",
       "      <td>124</td>\n",
       "      <td>20</td>\n",
       "      <td>140</td>\n",
       "    </tr>\n",
       "    <tr>\n",
       "      <th>top</th>\n",
       "      <td>R_062P3gnulqWHuYp_Resume_012319.pdf</td>\n",
       "      <td>Michael Joseph O’Connell</td>\n",
       "      <td>michaeljoconnell@ufl.edu</td>\n",
       "      <td>(904) 629-9221</td>\n",
       "      <td>To obtain a full-time job working on embedding...</td>\n",
       "      <td>C#, C++, C, Java, Python, JavaScript, CSS, HTM...</td>\n",
       "      <td>[]</td>\n",
       "      <td>[]</td>\n",
       "      <td>[]</td>\n",
       "      <td>[]</td>\n",
       "      <td>Data Structures, Software Engineering, Databas...</td>\n",
       "    </tr>\n",
       "    <tr>\n",
       "      <th>freq</th>\n",
       "      <td>1</td>\n",
       "      <td>2</td>\n",
       "      <td>2</td>\n",
       "      <td>2</td>\n",
       "      <td>1</td>\n",
       "      <td>2</td>\n",
       "      <td>3</td>\n",
       "      <td>9</td>\n",
       "      <td>89</td>\n",
       "      <td>194</td>\n",
       "      <td>2</td>\n",
       "    </tr>\n",
       "  </tbody>\n",
       "</table>\n",
       "</div>"
      ]
     },
     "metadata": {},
     "output_type": "display_data",
     "jetTransient": {
      "display_id": null
     }
    }
   ],
   "execution_count": 15
  },
  {
   "metadata": {
    "ExecuteTime": {
     "end_time": "2025-10-31T17:32:31.047863Z",
     "start_time": "2025-10-31T17:32:31.037101Z"
    }
   },
   "cell_type": "code",
   "source": [
    "# Count duplicates and missing values\n",
    "num_duplicates = df.duplicated().sum()\n",
    "missing_values = df.isnull().sum()\n",
    "\n",
    "# Display the results\n",
    "print(f\"Number of duplicate rows: {num_duplicates}\")\n",
    "print(\"\\nMissing values per column:\")\n",
    "print(missing_values)"
   ],
   "id": "53f21d07ae546a36",
   "outputs": [
    {
     "name": "stdout",
     "output_type": "stream",
     "text": [
      "Number of duplicate rows: 0\n",
      "\n",
      "Missing values per column:\n",
      "filename                0\n",
      "name                    3\n",
      "email                   4\n",
      "phone                   4\n",
      "summary               162\n",
      "skills                  9\n",
      "education               0\n",
      "experience              0\n",
      "projects                0\n",
      "research                0\n",
      "relevant_classwork     72\n",
      "dtype: int64\n"
     ]
    }
   ],
   "execution_count": 16
  },
  {
   "metadata": {
    "ExecuteTime": {
     "end_time": "2025-10-31T17:33:47.211783Z",
     "start_time": "2025-10-31T17:33:47.199843Z"
    }
   },
   "cell_type": "code",
   "source": [
    "# Handle missing values\n",
    "df.dropna(inplace = True)"
   ],
   "id": "7b8ed67eb5cd6b40",
   "outputs": [],
   "execution_count": 17
  },
  {
   "metadata": {
    "ExecuteTime": {
     "end_time": "2025-10-31T17:33:50.599527Z",
     "start_time": "2025-10-31T17:33:50.593357Z"
    }
   },
   "cell_type": "code",
   "source": [
    "# Display Columns names\n",
    "df.columns"
   ],
   "id": "1aa081cf8edfc393",
   "outputs": [
    {
     "data": {
      "text/plain": [
       "Index(['filename', 'name', 'email', 'phone', 'summary', 'skills', 'education',\n",
       "       'experience', 'projects', 'research', 'relevant_classwork'],\n",
       "      dtype='object')"
      ]
     },
     "execution_count": 18,
     "metadata": {},
     "output_type": "execute_result"
    }
   ],
   "execution_count": 18
  },
  {
   "metadata": {
    "ExecuteTime": {
     "end_time": "2025-10-31T17:34:40.436528Z",
     "start_time": "2025-10-31T17:34:40.429072Z"
    }
   },
   "cell_type": "code",
   "source": [
    "# Print the shape of the dataset\n",
    "\n",
    "print(f\"There are {df.shape[0]} rows and {df.shape[1]} columns.\")"
   ],
   "id": "8d590fdf1cee24f4",
   "outputs": [
    {
     "name": "stdout",
     "output_type": "stream",
     "text": [
      "There are 30 rows and 11 columns.\n"
     ]
    }
   ],
   "execution_count": 19
  },
  {
   "metadata": {},
   "cell_type": "markdown",
   "source": "Step 2: Exploratory Data Analysis",
   "id": "d45aabb7d39b6166"
  },
  {
   "metadata": {},
   "cell_type": "code",
   "outputs": [],
   "execution_count": null,
   "source": [
    "# need column for if person got an internship or not\n",
    "# code would be like internship_counts = df['internship'].value_counts()"
   ],
   "id": "b41703370ded8d8e"
  },
  {
   "metadata": {},
   "cell_type": "markdown",
   "source": "Step 3: Preprocessing",
   "id": "1adc9f0437b1fe1"
  },
  {
   "metadata": {},
   "cell_type": "markdown",
   "source": "Splitting Train/Test Data",
   "id": "6e338cea42a2ed01"
  },
  {
   "metadata": {
    "ExecuteTime": {
     "end_time": "2025-10-31T17:52:00.517067Z",
     "start_time": "2025-10-31T17:52:00.331954Z"
    }
   },
   "cell_type": "code",
   "source": [
    "# Perform training and testing split\n",
    "from sklearn.model_selection import train_test_split\n",
    "X_train, X_test, y_train, y_test = train_test_split(X, y, test_size=0.2, random_state=42)\n",
    "\n",
    "# probably need to use one hot encoder, decision tree, or feature engineering"
   ],
   "id": "60d1531c81e941e4",
   "outputs": [
    {
     "ename": "NameError",
     "evalue": "name 'X' is not defined",
     "output_type": "error",
     "traceback": [
      "\u001B[31m---------------------------------------------------------------------------\u001B[39m",
      "\u001B[31mNameError\u001B[39m                                 Traceback (most recent call last)",
      "\u001B[36mCell\u001B[39m\u001B[36m \u001B[39m\u001B[32mIn[26]\u001B[39m\u001B[32m, line 3\u001B[39m\n\u001B[32m      1\u001B[39m \u001B[38;5;66;03m# Perform training and testing split\u001B[39;00m\n\u001B[32m      2\u001B[39m \u001B[38;5;28;01mfrom\u001B[39;00m\u001B[38;5;250m \u001B[39m\u001B[34;01msklearn\u001B[39;00m\u001B[34;01m.\u001B[39;00m\u001B[34;01mmodel_selection\u001B[39;00m\u001B[38;5;250m \u001B[39m\u001B[38;5;28;01mimport\u001B[39;00m train_test_split\n\u001B[32m----> \u001B[39m\u001B[32m3\u001B[39m X_train, X_test, y_train, y_test = train_test_split(\u001B[43mX\u001B[49m, y, test_size=\u001B[32m0.2\u001B[39m, random_state=\u001B[32m42\u001B[39m)\n",
      "\u001B[31mNameError\u001B[39m: name 'X' is not defined"
     ]
    }
   ],
   "execution_count": 26
  }
 ],
 "metadata": {
  "kernelspec": {
   "display_name": "Python 3",
   "language": "python",
   "name": "python3"
  },
  "language_info": {
   "codemirror_mode": {
    "name": "ipython",
    "version": 2
   },
   "file_extension": ".py",
   "mimetype": "text/x-python",
   "name": "python",
   "nbconvert_exporter": "python",
   "pygments_lexer": "ipython2",
   "version": "2.7.6"
  }
 },
 "nbformat": 4,
 "nbformat_minor": 5
}
